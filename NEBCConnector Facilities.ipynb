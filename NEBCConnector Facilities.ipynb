{
 "cells": [
  {
   "cell_type": "markdown",
   "id": "3562bd2b",
   "metadata": {
    "toc": true
   },
   "source": [
    "<h1>Table of Contents<span class=\"tocSkip\"></span></h1>\n",
    "<div class=\"toc\"><ul class=\"toc-item\"><li><span><a href=\"#get_documents-function\" data-toc-modified-id=\"get_documents-function-1\"><span class=\"toc-item-num\">1&nbsp;&nbsp;</span>get_documents function</a></span><ul class=\"toc-item\"><li><span><a href=\"#level-1\" data-toc-modified-id=\"level-1-1.1\"><span class=\"toc-item-num\">1.1&nbsp;&nbsp;</span>level 1</a></span></li><li><span><a href=\"#level-2\" data-toc-modified-id=\"level-2-1.2\"><span class=\"toc-item-num\">1.2&nbsp;&nbsp;</span>level 2</a></span></li><li><span><a href=\"#level-3\" data-toc-modified-id=\"level-3-1.3\"><span class=\"toc-item-num\">1.3&nbsp;&nbsp;</span>level 3</a></span><ul class=\"toc-item\"><li><span><a href=\"#level-3-path\" data-toc-modified-id=\"level-3-path-1.3.1\"><span class=\"toc-item-num\">1.3.1&nbsp;&nbsp;</span>level 3 path</a></span></li><li><span><a href=\"#level-3-documents\" data-toc-modified-id=\"level-3-documents-1.3.2\"><span class=\"toc-item-num\">1.3.2&nbsp;&nbsp;</span>level 3 documents</a></span></li></ul></li><li><span><a href=\"#level-4\" data-toc-modified-id=\"level-4-1.4\"><span class=\"toc-item-num\">1.4&nbsp;&nbsp;</span>level 4</a></span><ul class=\"toc-item\"><li><span><a href=\"#level-4-documents\" data-toc-modified-id=\"level-4-documents-1.4.1\"><span class=\"toc-item-num\">1.4.1&nbsp;&nbsp;</span>level 4 documents</a></span></li></ul></li></ul></li><li><span><a href=\"#Featured-Information\" data-toc-modified-id=\"Featured-Information-2\"><span class=\"toc-item-num\">2&nbsp;&nbsp;</span>Featured Information</a></span><ul class=\"toc-item\"><li><span><a href=\"#financial-information-level-3\" data-toc-modified-id=\"financial-information-level-3-2.1\"><span class=\"toc-item-num\">2.1&nbsp;&nbsp;</span>financial information level 3</a></span></li><li><span><a href=\"#financial-information-level-4\" data-toc-modified-id=\"financial-information-level-4-2.2\"><span class=\"toc-item-num\">2.2&nbsp;&nbsp;</span>financial information level 4</a></span></li><li><span><a href=\"#financial-information-level-5\" data-toc-modified-id=\"financial-information-level-5-2.3\"><span class=\"toc-item-num\">2.3&nbsp;&nbsp;</span>financial information level 5</a></span><ul class=\"toc-item\"><li><span><a href=\"#feature-information-level-5-documents\" data-toc-modified-id=\"feature-information-level-5-documents-2.3.1\"><span class=\"toc-item-num\">2.3.1&nbsp;&nbsp;</span>feature information level 5 documents</a></span></li></ul></li></ul></li><li><span><a href=\"#concat-dataframes\" data-toc-modified-id=\"concat-dataframes-3\"><span class=\"toc-item-num\">3&nbsp;&nbsp;</span>concat dataframes</a></span></li></ul></div>"
   ]
  },
  {
   "cell_type": "code",
   "execution_count": 168,
   "id": "787c6939",
   "metadata": {},
   "outputs": [],
   "source": [
    "#TABLEAU dashboard for this data file available: https://public.tableau.com/app/profile/gosia.skwara/viz/NorthRiverMidstreamNEBCConnectorGPInc_/Dashboard1?publish=yes\n",
    "\n",
    "import pandas as pd\n",
    "import queue\n",
    "from requests_toolbelt.threaded import pool\n",
    "import requests\n",
    "from bs4 import BeautifulSoup as bs\n",
    "import io\n",
    "import pandas as pd\n",
    "from collections import Counter\n",
    "import requests\n",
    "from bs4 import BeautifulSoup as bs\n",
    "from IPython.core.interactiveshell import InteractiveShell\n",
    "InteractiveShell.ast_node_interactivity = 'all'\n",
    "from matplotlib import pyplot as plot"
   ]
  },
  {
   "cell_type": "markdown",
   "id": "141d7a50",
   "metadata": {},
   "source": [
    "## get_documents function"
   ]
  },
  {
   "cell_type": "code",
   "execution_count": 169,
   "id": "0637dc9d",
   "metadata": {},
   "outputs": [],
   "source": [
    "def get_documents(source, string1, string2):\n",
    "    \n",
    "    jobs = queue.Queue()\n",
    "    \n",
    "    for x in source:\n",
    "        jobs.put({'method' : 'GET', 'url' : x, 'cookies' : {'RDI-NumberOfRecords' : '200'} })\n",
    "        \n",
    "    p = pool.Pool(job_queue = jobs) #pooling for speed\n",
    "    p.join_all()\n",
    "    \n",
    "    for r in p.responses():\n",
    "\n",
    "        soup = bs(r.text, 'html.parser')\n",
    "        \n",
    "        try:\n",
    "            text = [x.text for x in soup.find_all('a', {'class' : 'link-wait no-expand'})]\n",
    "            \n",
    "            url = [x['href'] for x in soup.find_all('a', {'class' : 'link-wait no-expand'})]\n",
    "            url = ['https://apps.cer-rec.gc.ca' + x for x in url]\n",
    "            url = [x.replace('/View', '/LoadResult') for x in url]\n",
    "            \n",
    "            df = pd.DataFrame({string1 + 'text': text, string1 + 'url' : url, \\\n",
    "                              string2 + 'url' : r.request_kwargs['url']})\n",
    "            \n",
    "            dfs_collector.append(df)\n",
    "            \n",
    "            document_download_link = [x['href'] for x in soup.find_all('a', {'class' : 'row-icon'})]\n",
    "            document_name = [x.text for x in soup.find_all('a', {'class' : 'row-icon'})]\n",
    "            document_date = [x.text for x in soup.find_all('td', {'class' : 'nowrap'})]\n",
    "            doc_submitter = [x.text for x in soup.find_all('td', {'class' : 'col-md-2'})]\n",
    "\n",
    "            df = pd.DataFrame({'document_name' : document_name, 'document_download_link' : document_download_link, \\\n",
    "                                'document_date' : document_date, 'doc_submitter' : doc_submitter, \\\n",
    "                                string2 + 'url' : r.request_kwargs['url']})\n",
    "            \n",
    "            dfs_collector.append(df)\n",
    "        except:\n",
    "            pass\n",
    "#             print(r.request_kwargs['url']) prints that are in featured_information"
   ]
  },
  {
   "cell_type": "markdown",
   "id": "4eea8bf3",
   "metadata": {},
   "source": [
    "### level 1"
   ]
  },
  {
   "cell_type": "code",
   "execution_count": 170,
   "id": "631901c3",
   "metadata": {},
   "outputs": [],
   "source": [
    "NEBCConnector_facilities_url = 'https://apps.cer-rec.gc.ca/REGDOCS/Item/LoadResult/4158245'\n",
    "r = requests.get(NEBCConnector_facilities_url, cookies = {'RDI-NumberOfRecords' : '200'})\n",
    "soup = bs(r.text, 'html.parser')\n",
    "\n",
    "l1_url = [x['href'] for x in soup.find_all('a', {'class' : 'link-wait no-expand'})]\n",
    "l1_url = ['https://apps.cer-rec.gc.ca' + x for x in l1_url]\n",
    "l1_url = [x.replace('View', 'LoadResult') for x in l1_url]\n",
    "\n",
    "l1_text = [x.text for x in soup.find_all('a', {'class' : 'link-wait no-expand'})]"
   ]
  },
  {
   "cell_type": "code",
   "execution_count": 171,
   "id": "ad91f705",
   "metadata": {
    "scrolled": true
   },
   "outputs": [
    {
     "data": {
      "text/html": [
       "<div><div id=d85da28f-ef00-4b21-89d9-3e2ee1e9146f style=\"display:none; background-color:#9D6CFF; color:white; width:200px; height:30px; padding-left:5px; border-radius:4px; flex-direction:row; justify-content:space-around; align-items:center;\" onmouseover=\"this.style.backgroundColor='#BA9BF8'\" onmouseout=\"this.style.backgroundColor='#9D6CFF'\" onclick=\"window.commands?.execute('create-mitosheet-from-dataframe-output');\">See Full Dataframe in Mito</div> <script> if (window.commands?.hasCommand('create-mitosheet-from-dataframe-output')) document.getElementById('d85da28f-ef00-4b21-89d9-3e2ee1e9146f').style.display = 'flex' </script> <table border=\"1\" class=\"dataframe\">\n",
       "  <thead>\n",
       "    <tr style=\"text-align: right;\">\n",
       "      <th></th>\n",
       "      <th>l1_text</th>\n",
       "      <th>l1_url</th>\n",
       "    </tr>\n",
       "  </thead>\n",
       "  <tbody>\n",
       "    <tr>\n",
       "      <th>0</th>\n",
       "      <td>A - Commission of the Canada Energy Regulator</td>\n",
       "      <td>https://apps.cer-rec.gc.ca/REGDOCS/Item/LoadResult/4157924</td>\n",
       "    </tr>\n",
       "    <tr>\n",
       "      <th>1</th>\n",
       "      <td>B - Canada Energy Regulator</td>\n",
       "      <td>https://apps.cer-rec.gc.ca/REGDOCS/Item/LoadResult/4157925</td>\n",
       "    </tr>\n",
       "    <tr>\n",
       "      <th>2</th>\n",
       "      <td>C - NorthRiver Midstream NEBC Connector GP Inc.</td>\n",
       "      <td>https://apps.cer-rec.gc.ca/REGDOCS/Item/LoadResult/4157926</td>\n",
       "    </tr>\n",
       "    <tr>\n",
       "      <th>3</th>\n",
       "      <td>D - Intervenors</td>\n",
       "      <td>https://apps.cer-rec.gc.ca/REGDOCS/Item/LoadResult/4157927</td>\n",
       "    </tr>\n",
       "    <tr>\n",
       "      <th>4</th>\n",
       "      <td>E - Commenters</td>\n",
       "      <td>https://apps.cer-rec.gc.ca/REGDOCS/Item/LoadResult/4157928</td>\n",
       "    </tr>\n",
       "  </tbody>\n",
       "</table></div>"
      ],
      "text/plain": [
       "                                           l1_text  \\\n",
       "0    A - Commission of the Canada Energy Regulator   \n",
       "1                      B - Canada Energy Regulator   \n",
       "2  C - NorthRiver Midstream NEBC Connector GP Inc.   \n",
       "3                                  D - Intervenors   \n",
       "4                                   E - Commenters   \n",
       "\n",
       "                                              l1_url  \n",
       "0  https://apps.cer-rec.gc.ca/REGDOCS/Item/LoadRe...  \n",
       "1  https://apps.cer-rec.gc.ca/REGDOCS/Item/LoadRe...  \n",
       "2  https://apps.cer-rec.gc.ca/REGDOCS/Item/LoadRe...  \n",
       "3  https://apps.cer-rec.gc.ca/REGDOCS/Item/LoadRe...  \n",
       "4  https://apps.cer-rec.gc.ca/REGDOCS/Item/LoadRe...  "
      ]
     },
     "execution_count": 171,
     "metadata": {},
     "output_type": "execute_result"
    },
    {
     "data": {
      "text/plain": [
       "(5, 2)"
      ]
     },
     "execution_count": 171,
     "metadata": {},
     "output_type": "execute_result"
    },
    {
     "data": {
      "text/plain": [
       "l1_text    5\n",
       "l1_url     5\n",
       "dtype: int64"
      ]
     },
     "execution_count": 171,
     "metadata": {},
     "output_type": "execute_result"
    }
   ],
   "source": [
    "df_l1 = pd.DataFrame({'l1_text' : l1_text, 'l1_url' : l1_url})\n",
    "# df_1['folder_link'] = df_1['folder_link'].str.replace('View', 'LoadResult')\n",
    "df_l1.head()\n",
    "df_l1.shape\n",
    "df_l1.nunique() #all unique\n",
    "df_l1.to_csv('NEBCConnector_facilities_df_l1.csv', index = False)"
   ]
  },
  {
   "cell_type": "markdown",
   "id": "f70ae808",
   "metadata": {},
   "source": [
    "### level 2"
   ]
  },
  {
   "cell_type": "code",
   "execution_count": 172,
   "id": "b779db5a",
   "metadata": {},
   "outputs": [
    {
     "data": {
      "text/plain": [
       "(117, 7)"
      ]
     },
     "execution_count": 172,
     "metadata": {},
     "output_type": "execute_result"
    },
    {
     "data": {
      "text/plain": [
       "l2_text                     0\n",
       "l2_url                      0\n",
       "l1_url                      0\n",
       "document_name             117\n",
       "document_download_link    117\n",
       "document_date             117\n",
       "doc_submitter             117\n",
       "dtype: int64"
      ]
     },
     "execution_count": 172,
     "metadata": {},
     "output_type": "execute_result"
    },
    {
     "data": {
      "text/html": [
       "<div><div id=1199eb27-68e3-483f-99a5-72f2a20690f0 style=\"display:none; background-color:#9D6CFF; color:white; width:200px; height:30px; padding-left:5px; border-radius:4px; flex-direction:row; justify-content:space-around; align-items:center;\" onmouseover=\"this.style.backgroundColor='#BA9BF8'\" onmouseout=\"this.style.backgroundColor='#9D6CFF'\" onclick=\"window.commands?.execute('create-mitosheet-from-dataframe-output');\">See Full Dataframe in Mito</div> <script> if (window.commands?.hasCommand('create-mitosheet-from-dataframe-output')) document.getElementById('1199eb27-68e3-483f-99a5-72f2a20690f0').style.display = 'flex' </script> <table border=\"1\" class=\"dataframe\">\n",
       "  <thead>\n",
       "    <tr style=\"text-align: right;\">\n",
       "      <th></th>\n",
       "      <th>l2_text</th>\n",
       "      <th>l2_url</th>\n",
       "      <th>l1_url</th>\n",
       "      <th>document_name</th>\n",
       "      <th>document_download_link</th>\n",
       "      <th>document_date</th>\n",
       "      <th>doc_submitter</th>\n",
       "    </tr>\n",
       "  </thead>\n",
       "  <tbody>\n",
       "    <tr>\n",
       "      <th>0</th>\n",
       "      <td>C22398 Crown Consultation Coordinator - CCC Response to Information Requests</td>\n",
       "      <td>https://apps.cer-rec.gc.ca/REGDOCS/Item/LoadResult/4292500</td>\n",
       "      <td>https://apps.cer-rec.gc.ca/REGDOCS/Item/LoadResult/4157925</td>\n",
       "      <td>NaN</td>\n",
       "      <td>NaN</td>\n",
       "      <td>NaN</td>\n",
       "      <td>NaN</td>\n",
       "    </tr>\n",
       "  </tbody>\n",
       "</table></div>"
      ],
      "text/plain": [
       "                                             l2_text  \\\n",
       "0  C22398 Crown Consultation Coordinator - CCC Re...   \n",
       "\n",
       "                                              l2_url  \\\n",
       "0  https://apps.cer-rec.gc.ca/REGDOCS/Item/LoadRe...   \n",
       "\n",
       "                                              l1_url  document_name  \\\n",
       "0  https://apps.cer-rec.gc.ca/REGDOCS/Item/LoadRe...            NaN   \n",
       "\n",
       "   document_download_link  document_date  doc_submitter  \n",
       "0                     NaN            NaN            NaN  "
      ]
     },
     "execution_count": 172,
     "metadata": {},
     "output_type": "execute_result"
    }
   ],
   "source": [
    "dfs_collector = []\n",
    "get_documents(source = df_l1['l1_url'], string1 = 'l2_', string2 = 'l1_')\n",
    "\n",
    "df_l2 = pd.concat(dfs_collector)\n",
    "df_l2.shape\n",
    "df_l2.isnull().sum() #no docs\n",
    "df_l2.head(1)\n",
    "df_l2 = df_l2.dropna(axis = 1, how = 'all')\n",
    "df_l2.to_csv('NEBCConnector_facilities_df_l2.csv', index = False)"
   ]
  },
  {
   "cell_type": "markdown",
   "id": "8f7f996c",
   "metadata": {},
   "source": [
    "### level 3"
   ]
  },
  {
   "cell_type": "code",
   "execution_count": 173,
   "id": "d7909989",
   "metadata": {
    "code_folding": [],
    "scrolled": false
   },
   "outputs": [
    {
     "data": {
      "text/plain": [
       "(482, 7)"
      ]
     },
     "execution_count": 173,
     "metadata": {},
     "output_type": "execute_result"
    },
    {
     "data": {
      "text/plain": [
       "l3_text                   292\n",
       "l3_url                    292\n",
       "l2_url                      0\n",
       "document_name             190\n",
       "document_download_link    190\n",
       "document_date             190\n",
       "doc_submitter             190\n",
       "dtype: int64"
      ]
     },
     "execution_count": 173,
     "metadata": {},
     "output_type": "execute_result"
    },
    {
     "data": {
      "text/html": [
       "<div><div id=2c0c5ad9-b553-4796-805a-0758b65a2eac style=\"display:none; background-color:#9D6CFF; color:white; width:200px; height:30px; padding-left:5px; border-radius:4px; flex-direction:row; justify-content:space-around; align-items:center;\" onmouseover=\"this.style.backgroundColor='#BA9BF8'\" onmouseout=\"this.style.backgroundColor='#9D6CFF'\" onclick=\"window.commands?.execute('create-mitosheet-from-dataframe-output');\">See Full Dataframe in Mito</div> <script> if (window.commands?.hasCommand('create-mitosheet-from-dataframe-output')) document.getElementById('2c0c5ad9-b553-4796-805a-0758b65a2eac').style.display = 'flex' </script> <table border=\"1\" class=\"dataframe\">\n",
       "  <thead>\n",
       "    <tr style=\"text-align: right;\">\n",
       "      <th></th>\n",
       "      <th>l3_text</th>\n",
       "      <th>l3_url</th>\n",
       "      <th>l2_url</th>\n",
       "      <th>document_name</th>\n",
       "      <th>document_download_link</th>\n",
       "      <th>document_date</th>\n",
       "      <th>doc_submitter</th>\n",
       "    </tr>\n",
       "  </thead>\n",
       "  <tbody>\n",
       "    <tr>\n",
       "      <th>0</th>\n",
       "      <td>NaN</td>\n",
       "      <td>NaN</td>\n",
       "      <td>https://apps.cer-rec.gc.ca/REGDOCS/Item/LoadResult/4246271</td>\n",
       "      <td>C19098-1 NEBC_Connector_Project_-_CCC_Registration_-_Cumulative_Effects_Workshop_June_2022 - A8D8W1</td>\n",
       "      <td>/REGDOCS/File/Download/4246822</td>\n",
       "      <td>2022-05-12</td>\n",
       "      <td>Crown Consultation Coordinator</td>\n",
       "    </tr>\n",
       "  </tbody>\n",
       "</table></div>"
      ],
      "text/plain": [
       "  l3_text l3_url                                             l2_url  \\\n",
       "0     NaN    NaN  https://apps.cer-rec.gc.ca/REGDOCS/Item/LoadRe...   \n",
       "\n",
       "                                       document_name  \\\n",
       "0  C19098-1 NEBC_Connector_Project_-_CCC_Registra...   \n",
       "\n",
       "           document_download_link document_date  \\\n",
       "0  /REGDOCS/File/Download/4246822    2022-05-12   \n",
       "\n",
       "                    doc_submitter  \n",
       "0  Crown Consultation Coordinator  "
      ]
     },
     "execution_count": 173,
     "metadata": {},
     "output_type": "execute_result"
    }
   ],
   "source": [
    "# %%time\n",
    "# CPU times: user 1.6 s, sys: 138 ms, total: 1.74 s\n",
    "# Wall time: 8.65 s\n",
    "dfs_collector = []\n",
    "get_documents(source = df_l2['l2_url'], string1 = 'l3_', string2 = 'l2_')\n",
    "\n",
    "df_l3 = pd.concat(dfs_collector) \n",
    "df_l3.shape\n",
    "df_l3.isnull().sum() #some docs\n",
    "df_l3.head(1)\n",
    "df_l3.to_csv('NEBCConnector_facilities_df_l3.csv', index = False)"
   ]
  },
  {
   "cell_type": "markdown",
   "id": "f4e1bc31",
   "metadata": {},
   "source": [
    "#### level 3 path"
   ]
  },
  {
   "cell_type": "code",
   "execution_count": 174,
   "id": "0ced1c69",
   "metadata": {
    "scrolled": true
   },
   "outputs": [
    {
     "data": {
      "text/plain": [
       "(190, 3)"
      ]
     },
     "execution_count": 174,
     "metadata": {},
     "output_type": "execute_result"
    },
    {
     "data": {
      "text/html": [
       "<div><div id=cd493e63-dfe2-40b8-b977-56b24adc4923 style=\"display:none; background-color:#9D6CFF; color:white; width:200px; height:30px; padding-left:5px; border-radius:4px; flex-direction:row; justify-content:space-around; align-items:center;\" onmouseover=\"this.style.backgroundColor='#BA9BF8'\" onmouseout=\"this.style.backgroundColor='#9D6CFF'\" onclick=\"window.commands?.execute('create-mitosheet-from-dataframe-output');\">See Full Dataframe in Mito</div> <script> if (window.commands?.hasCommand('create-mitosheet-from-dataframe-output')) document.getElementById('cd493e63-dfe2-40b8-b977-56b24adc4923').style.display = 'flex' </script> <table border=\"1\" class=\"dataframe\">\n",
       "  <thead>\n",
       "    <tr style=\"text-align: right;\">\n",
       "      <th></th>\n",
       "      <th>l3_text</th>\n",
       "      <th>l3_url</th>\n",
       "      <th>l2_url</th>\n",
       "    </tr>\n",
       "  </thead>\n",
       "  <tbody>\n",
       "    <tr>\n",
       "      <th>0</th>\n",
       "      <td>C17454 Alberta Department of Energy - Registration to Participate</td>\n",
       "      <td>https://apps.cer-rec.gc.ca/REGDOCS/Item/LoadResult/4202090</td>\n",
       "      <td>https://apps.cer-rec.gc.ca/REGDOCS/Item/LoadResult/4198246</td>\n",
       "    </tr>\n",
       "  </tbody>\n",
       "</table></div>"
      ],
      "text/plain": [
       "                                             l3_text  \\\n",
       "0  C17454 Alberta Department of Energy - Registra...   \n",
       "\n",
       "                                              l3_url  \\\n",
       "0  https://apps.cer-rec.gc.ca/REGDOCS/Item/LoadRe...   \n",
       "\n",
       "                                              l2_url  \n",
       "0  https://apps.cer-rec.gc.ca/REGDOCS/Item/LoadRe...  "
      ]
     },
     "execution_count": 174,
     "metadata": {},
     "output_type": "execute_result"
    },
    {
     "data": {
      "text/plain": [
       "l3_text    0\n",
       "l3_url     0\n",
       "l2_url     0\n",
       "dtype: int64"
      ]
     },
     "execution_count": 174,
     "metadata": {},
     "output_type": "execute_result"
    }
   ],
   "source": [
    "df_l3_1 = df_l3.dropna(subset = ['l3_text'])\n",
    "df_l3_1 = df_l3_1.dropna(axis = 1, how = 'all')\n",
    "\n",
    "df_l3_1.shape\n",
    "df_l3_1.head(1)\n",
    "df_l3_1.isnull().sum() "
   ]
  },
  {
   "cell_type": "markdown",
   "id": "c8fed965",
   "metadata": {},
   "source": [
    "#### level 3 documents"
   ]
  },
  {
   "cell_type": "code",
   "execution_count": 175,
   "id": "7763325e",
   "metadata": {
    "scrolled": false
   },
   "outputs": [
    {
     "data": {
      "text/plain": [
       "(292, 5)"
      ]
     },
     "execution_count": 175,
     "metadata": {},
     "output_type": "execute_result"
    },
    {
     "data": {
      "text/plain": [
       "(292, 9)"
      ]
     },
     "execution_count": 175,
     "metadata": {},
     "output_type": "execute_result"
    },
    {
     "data": {
      "text/html": [
       "<div><div id=9d4b29f4-0da5-42c0-8d4f-7fcbac9f90de style=\"display:none; background-color:#9D6CFF; color:white; width:200px; height:30px; padding-left:5px; border-radius:4px; flex-direction:row; justify-content:space-around; align-items:center;\" onmouseover=\"this.style.backgroundColor='#BA9BF8'\" onmouseout=\"this.style.backgroundColor='#9D6CFF'\" onclick=\"window.commands?.execute('create-mitosheet-from-dataframe-output');\">See Full Dataframe in Mito</div> <script> if (window.commands?.hasCommand('create-mitosheet-from-dataframe-output')) document.getElementById('9d4b29f4-0da5-42c0-8d4f-7fcbac9f90de').style.display = 'flex' </script> <table border=\"1\" class=\"dataframe\">\n",
       "  <thead>\n",
       "    <tr style=\"text-align: right;\">\n",
       "      <th></th>\n",
       "      <th>folder_name_url</th>\n",
       "      <th>document_name</th>\n",
       "      <th>document_download_link</th>\n",
       "      <th>document_date</th>\n",
       "      <th>doc_submitter</th>\n",
       "      <th>folder_name</th>\n",
       "      <th>participant_category_url</th>\n",
       "      <th>participant_category</th>\n",
       "      <th>doc_type</th>\n",
       "    </tr>\n",
       "  </thead>\n",
       "  <tbody>\n",
       "    <tr>\n",
       "      <th>0</th>\n",
       "      <td>https://apps.cer-rec.gc.ca/REGDOCS/Item/LoadResult/4246271</td>\n",
       "      <td>C19098-1 NEBC_Connector_Project_-_CCC_Registration_-_Cumulative_Effects_Workshop_June_2022 - A8D8W1</td>\n",
       "      <td>/REGDOCS/File/Download/4246822</td>\n",
       "      <td>2022-05-12</td>\n",
       "      <td>Crown Consultation Coordinator</td>\n",
       "      <td>C19098 Crown Consultation Coordinator - NEBC Connector Project - CCC Registration - June 2022 Cumulative Effects Workshop</td>\n",
       "      <td>https://apps.cer-rec.gc.ca/REGDOCS/Item/LoadResult/4157925</td>\n",
       "      <td>B - Canada Energy Regulator</td>\n",
       "      <td>documents</td>\n",
       "    </tr>\n",
       "  </tbody>\n",
       "</table></div>"
      ],
      "text/plain": [
       "                                     folder_name_url  \\\n",
       "0  https://apps.cer-rec.gc.ca/REGDOCS/Item/LoadRe...   \n",
       "\n",
       "                                       document_name  \\\n",
       "0  C19098-1 NEBC_Connector_Project_-_CCC_Registra...   \n",
       "\n",
       "           document_download_link document_date  \\\n",
       "0  /REGDOCS/File/Download/4246822    2022-05-12   \n",
       "\n",
       "                    doc_submitter  \\\n",
       "0  Crown Consultation Coordinator   \n",
       "\n",
       "                                         folder_name  \\\n",
       "0  C19098 Crown Consultation Coordinator - NEBC C...   \n",
       "\n",
       "                            participant_category_url  \\\n",
       "0  https://apps.cer-rec.gc.ca/REGDOCS/Item/LoadRe...   \n",
       "\n",
       "          participant_category   doc_type  \n",
       "0  B - Canada Energy Regulator  documents  "
      ]
     },
     "execution_count": 175,
     "metadata": {},
     "output_type": "execute_result"
    }
   ],
   "source": [
    "df_l3_2 = df_l3.dropna(subset = ['document_name']) # documents\n",
    "df_l3_2 = df_l3_2.dropna(axis = 1, how = 'all')\n",
    "df_l3_2.shape\n",
    "\n",
    "df_l3_2 = df_l3_2.merge(df_l2, how = 'left')\n",
    "df_l3_2 = df_l3_2.merge(df_l1, how = 'left')\n",
    "\n",
    "df_l3_2 = df_l3_2.rename(columns={\"l2_text\": \"folder_name\", 'l2_url' : 'folder_name_url',\n",
    "                                  \"l1_text\" : \"participant_category\", \"l1_url\" : \"participant_category_url\"})\n",
    "\n",
    "df_l3_2['doc_type'] = 'documents'\n",
    "\n",
    "df_l3_2.shape\n",
    "df_l3_2.head(1)"
   ]
  },
  {
   "cell_type": "markdown",
   "id": "4730f210",
   "metadata": {},
   "source": [
    "### level 4"
   ]
  },
  {
   "cell_type": "code",
   "execution_count": 176,
   "id": "e318f204",
   "metadata": {},
   "outputs": [
    {
     "data": {
      "text/plain": [
       "(391, 7)"
      ]
     },
     "execution_count": 176,
     "metadata": {},
     "output_type": "execute_result"
    },
    {
     "data": {
      "text/plain": [
       "l4_text                   391\n",
       "l4_url                    391\n",
       "l3_url                      0\n",
       "document_name               0\n",
       "document_download_link      0\n",
       "document_date               0\n",
       "doc_submitter               0\n",
       "dtype: int64"
      ]
     },
     "execution_count": 176,
     "metadata": {},
     "output_type": "execute_result"
    },
    {
     "data": {
      "text/html": [
       "<div><div id=277e392d-1b70-453a-8f96-7ea214794ea6 style=\"display:none; background-color:#9D6CFF; color:white; width:200px; height:30px; padding-left:5px; border-radius:4px; flex-direction:row; justify-content:space-around; align-items:center;\" onmouseover=\"this.style.backgroundColor='#BA9BF8'\" onmouseout=\"this.style.backgroundColor='#9D6CFF'\" onclick=\"window.commands?.execute('create-mitosheet-from-dataframe-output');\">See Full Dataframe in Mito</div> <script> if (window.commands?.hasCommand('create-mitosheet-from-dataframe-output')) document.getElementById('277e392d-1b70-453a-8f96-7ea214794ea6').style.display = 'flex' </script> <table border=\"1\" class=\"dataframe\">\n",
       "  <thead>\n",
       "    <tr style=\"text-align: right;\">\n",
       "      <th></th>\n",
       "      <th>l4_text</th>\n",
       "      <th>l4_url</th>\n",
       "      <th>l3_url</th>\n",
       "      <th>document_name</th>\n",
       "      <th>document_download_link</th>\n",
       "      <th>document_date</th>\n",
       "      <th>doc_submitter</th>\n",
       "    </tr>\n",
       "  </thead>\n",
       "  <tbody>\n",
       "    <tr>\n",
       "      <th>0</th>\n",
       "      <td>NaN</td>\n",
       "      <td>NaN</td>\n",
       "      <td>https://apps.cer-rec.gc.ca/REGDOCS/Item/LoadResult/4202589</td>\n",
       "      <td>C17455-1 2022-01-28_ADOE_Ltr_OH-001-2022_Intervention ltr - A8A5S4</td>\n",
       "      <td>/REGDOCS/File/Download/4202189</td>\n",
       "      <td>2022-01-28</td>\n",
       "      <td>Alberta Department of Energy</td>\n",
       "    </tr>\n",
       "    <tr>\n",
       "      <th>1</th>\n",
       "      <td>NaN</td>\n",
       "      <td>NaN</td>\n",
       "      <td>https://apps.cer-rec.gc.ca/REGDOCS/Item/LoadResult/4202589</td>\n",
       "      <td>C17455-2 C17454-1_Registration_to_Participate_-_A8A5S3 - A8A5S5</td>\n",
       "      <td>/REGDOCS/File/Download/4202190</td>\n",
       "      <td>2022-01-28</td>\n",
       "      <td>Alberta Department of Energy</td>\n",
       "    </tr>\n",
       "  </tbody>\n",
       "</table></div>"
      ],
      "text/plain": [
       "   l4_text  l4_url                                             l3_url  \\\n",
       "0      NaN     NaN  https://apps.cer-rec.gc.ca/REGDOCS/Item/LoadRe...   \n",
       "1      NaN     NaN  https://apps.cer-rec.gc.ca/REGDOCS/Item/LoadRe...   \n",
       "\n",
       "                                       document_name  \\\n",
       "0  C17455-1 2022-01-28_ADOE_Ltr_OH-001-2022_Inter...   \n",
       "1  C17455-2 C17454-1_Registration_to_Participate_...   \n",
       "\n",
       "           document_download_link document_date                 doc_submitter  \n",
       "0  /REGDOCS/File/Download/4202189    2022-01-28  Alberta Department of Energy  \n",
       "1  /REGDOCS/File/Download/4202190    2022-01-28  Alberta Department of Energy  "
      ]
     },
     "execution_count": 176,
     "metadata": {},
     "output_type": "execute_result"
    }
   ],
   "source": [
    "dfs_collector = []\n",
    "get_documents(source = df_l3_1['l3_url'], string1 = 'l4_', string2 = 'l3_')\n",
    "\n",
    "df_l4 = pd.concat(dfs_collector)\n",
    "df_l4.shape\n",
    "df_l4.isnull().sum() # all docs\n",
    "df_l4.head(2)\n",
    "\n",
    "df_l4.to_csv('NEBCConnector_facilities_df_l4.csv', index = False)"
   ]
  },
  {
   "cell_type": "markdown",
   "id": "3d62e384",
   "metadata": {},
   "source": [
    "#### level 4 documents"
   ]
  },
  {
   "cell_type": "code",
   "execution_count": 177,
   "id": "e451a2b8",
   "metadata": {
    "scrolled": true
   },
   "outputs": [
    {
     "data": {
      "text/plain": [
       "(391, 11)"
      ]
     },
     "execution_count": 177,
     "metadata": {},
     "output_type": "execute_result"
    },
    {
     "data": {
      "text/html": [
       "<div><div id=7e7cf09a-e6cd-4911-9532-8bf36a3298e6 style=\"display:none; background-color:#9D6CFF; color:white; width:200px; height:30px; padding-left:5px; border-radius:4px; flex-direction:row; justify-content:space-around; align-items:center;\" onmouseover=\"this.style.backgroundColor='#BA9BF8'\" onmouseout=\"this.style.backgroundColor='#9D6CFF'\" onclick=\"window.commands?.execute('create-mitosheet-from-dataframe-output');\">See Full Dataframe in Mito</div> <script> if (window.commands?.hasCommand('create-mitosheet-from-dataframe-output')) document.getElementById('7e7cf09a-e6cd-4911-9532-8bf36a3298e6').style.display = 'flex' </script> <table border=\"1\" class=\"dataframe\">\n",
       "  <thead>\n",
       "    <tr style=\"text-align: right;\">\n",
       "      <th></th>\n",
       "      <th>folder_name_url</th>\n",
       "      <th>document_name</th>\n",
       "      <th>document_download_link</th>\n",
       "      <th>document_date</th>\n",
       "      <th>doc_submitter</th>\n",
       "      <th>folder_name</th>\n",
       "      <th>participant_folder_url</th>\n",
       "      <th>participant_folder</th>\n",
       "      <th>participant_category_url</th>\n",
       "      <th>participant_category</th>\n",
       "      <th>doc_type</th>\n",
       "    </tr>\n",
       "  </thead>\n",
       "  <tbody>\n",
       "    <tr>\n",
       "      <th>0</th>\n",
       "      <td>https://apps.cer-rec.gc.ca/REGDOCS/Item/LoadResult/4202589</td>\n",
       "      <td>C17455-1 2022-01-28_ADOE_Ltr_OH-001-2022_Intervention ltr - A8A5S4</td>\n",
       "      <td>/REGDOCS/File/Download/4202189</td>\n",
       "      <td>2022-01-28</td>\n",
       "      <td>Alberta Department of Energy</td>\n",
       "      <td>C17455 Alberta Department of Energy - Registration to Participate</td>\n",
       "      <td>https://apps.cer-rec.gc.ca/REGDOCS/Item/LoadResult/4198246</td>\n",
       "      <td>Alberta Department of Energy</td>\n",
       "      <td>https://apps.cer-rec.gc.ca/REGDOCS/Item/LoadResult/4157927</td>\n",
       "      <td>D - Intervenors</td>\n",
       "      <td>documents</td>\n",
       "    </tr>\n",
       "  </tbody>\n",
       "</table></div>"
      ],
      "text/plain": [
       "                                     folder_name_url  \\\n",
       "0  https://apps.cer-rec.gc.ca/REGDOCS/Item/LoadRe...   \n",
       "\n",
       "                                       document_name  \\\n",
       "0  C17455-1 2022-01-28_ADOE_Ltr_OH-001-2022_Inter...   \n",
       "\n",
       "           document_download_link document_date                 doc_submitter  \\\n",
       "0  /REGDOCS/File/Download/4202189    2022-01-28  Alberta Department of Energy   \n",
       "\n",
       "                                         folder_name  \\\n",
       "0  C17455 Alberta Department of Energy - Registra...   \n",
       "\n",
       "                              participant_folder_url  \\\n",
       "0  https://apps.cer-rec.gc.ca/REGDOCS/Item/LoadRe...   \n",
       "\n",
       "             participant_folder  \\\n",
       "0  Alberta Department of Energy   \n",
       "\n",
       "                            participant_category_url participant_category  \\\n",
       "0  https://apps.cer-rec.gc.ca/REGDOCS/Item/LoadRe...      D - Intervenors   \n",
       "\n",
       "    doc_type  \n",
       "0  documents  "
      ]
     },
     "execution_count": 177,
     "metadata": {},
     "output_type": "execute_result"
    }
   ],
   "source": [
    "df_l4_2 = df_l4.dropna(axis = 1, how = 'all')\n",
    "\n",
    "df_l4_2 = df_l4_2.merge(df_l3_1, how = 'left', on = 'l3_url')\n",
    "df_l4_2 = df_l4_2.merge(df_l2, how = 'left', on = 'l2_url')\n",
    "df_l4_2 = df_l4_2.merge(df_l1, how = 'left', on = 'l1_url')\n",
    "\n",
    "df_l4_2 = df_l4_2.rename(columns={\n",
    "                                  \"l1_text\" : \"participant_category\", \"l1_url\" : \"participant_category_url\",\n",
    "                                  \"l2_text\": \"participant_folder\", 'l2_url' : \"participant_folder_url\",\n",
    "                                  \"l3_text\" : \"folder_name\", \"l3_url\" : \"folder_name_url\"\n",
    "                                  })\n",
    "df_l4_2['doc_type'] = 'documents'\n",
    "\n",
    "df_l4_2.shape\n",
    "df_l4_2.head(1)"
   ]
  },
  {
   "cell_type": "markdown",
   "id": "a91abe9b",
   "metadata": {},
   "source": [
    "## Featured Information"
   ]
  },
  {
   "cell_type": "code",
   "execution_count": 178,
   "id": "6ab05ba2",
   "metadata": {
    "code_folding": []
   },
   "outputs": [],
   "source": [
    "#this function is different than get_documents due to unique html elements in 'Feature Information' in CER CMS.\n",
    "def get_featured_information(source):\n",
    "    \n",
    "    jobs = queue.Queue()\n",
    "    \n",
    "    for x in source:\n",
    "        jobs.put({'method' : 'GET', 'url' : x, 'cookies' : {'RDI-NumberOfRecords' : '200'} })\n",
    "        \n",
    "    p = pool.Pool(job_queue = jobs)\n",
    "    p.join_all()\n",
    "    \n",
    "    for r in p.responses():\n",
    "        soup = bs(r.text, 'html.parser')\n",
    "        \n",
    "        text = [x.text for x in soup.find_all('a', {'class' : 'link-wait'})]\n",
    "            \n",
    "        url = [x['href'] for x in soup.find_all('a', {'class' : 'link-wait'})]\n",
    "        url = ['https://apps.cer-rec.gc.ca' + x for x in url]\n",
    "        url = [x.replace('/View', '/LoadResult') for x in url]\n",
    "            \n",
    "        df = pd.DataFrame({'f3_text': text, \n",
    "                            'f3_url' : url,\n",
    "                            'f2_url' : r.request_kwargs['url']})\n",
    "            \n",
    "        dfs_collector.append(df)"
   ]
  },
  {
   "cell_type": "markdown",
   "id": "f4ef33f9",
   "metadata": {},
   "source": [
    "### financial information level 3"
   ]
  },
  {
   "cell_type": "code",
   "execution_count": 179,
   "id": "27f9c903",
   "metadata": {
    "scrolled": false
   },
   "outputs": [
    {
     "data": {
      "text/plain": [
       "f3_text    0\n",
       "f3_url     0\n",
       "f2_url     0\n",
       "dtype: int64"
      ]
     },
     "execution_count": 179,
     "metadata": {},
     "output_type": "execute_result"
    },
    {
     "data": {
      "text/plain": [
       "(6, 3)"
      ]
     },
     "execution_count": 179,
     "metadata": {},
     "output_type": "execute_result"
    },
    {
     "data": {
      "text/html": [
       "<div><div id=67412b1f-365f-466c-b924-a2cab7f3763c style=\"display:none; background-color:#9D6CFF; color:white; width:200px; height:30px; padding-left:5px; border-radius:4px; flex-direction:row; justify-content:space-around; align-items:center;\" onmouseover=\"this.style.backgroundColor='#BA9BF8'\" onmouseout=\"this.style.backgroundColor='#9D6CFF'\" onclick=\"window.commands?.execute('create-mitosheet-from-dataframe-output');\">See Full Dataframe in Mito</div> <script> if (window.commands?.hasCommand('create-mitosheet-from-dataframe-output')) document.getElementById('67412b1f-365f-466c-b924-a2cab7f3763c').style.display = 'flex' </script> <table border=\"1\" class=\"dataframe\">\n",
       "  <thead>\n",
       "    <tr style=\"text-align: right;\">\n",
       "      <th></th>\n",
       "      <th>f3_text</th>\n",
       "      <th>f3_url</th>\n",
       "      <th>f2_url</th>\n",
       "    </tr>\n",
       "  </thead>\n",
       "  <tbody>\n",
       "    <tr>\n",
       "      <th>0</th>\n",
       "      <td>--Inbox--</td>\n",
       "      <td>https://apps.cer-rec.gc.ca/REGDOCS/Item/LoadResult/4157918</td>\n",
       "      <td>https://apps.cer-rec.gc.ca/REGDOCS/Item/LoadFeatured/4158245</td>\n",
       "    </tr>\n",
       "    <tr>\n",
       "      <th>1</th>\n",
       "      <td>2021-04-30 - Project Notification for the NEBC Connector Project</td>\n",
       "      <td>https://apps.cer-rec.gc.ca/REGDOCS/Item/LoadResult/4090620</td>\n",
       "      <td>https://apps.cer-rec.gc.ca/REGDOCS/Item/LoadFeatured/4158245</td>\n",
       "    </tr>\n",
       "    <tr>\n",
       "      <th>2</th>\n",
       "      <td>Hearing Order</td>\n",
       "      <td>https://apps.cer-rec.gc.ca/REGDOCS/Item/LoadResult/4157921</td>\n",
       "      <td>https://apps.cer-rec.gc.ca/REGDOCS/Item/LoadFeatured/4158245</td>\n",
       "    </tr>\n",
       "    <tr>\n",
       "      <th>3</th>\n",
       "      <td>List of Parties</td>\n",
       "      <td>https://apps.cer-rec.gc.ca/REGDOCS/Item/LoadResult/4157920</td>\n",
       "      <td>https://apps.cer-rec.gc.ca/REGDOCS/Item/LoadFeatured/4158245</td>\n",
       "    </tr>\n",
       "    <tr>\n",
       "      <th>4</th>\n",
       "      <td>Registration to Participate</td>\n",
       "      <td>https://apps.cer-rec.gc.ca/REGDOCS/Item/LoadResult/4157919</td>\n",
       "      <td>https://apps.cer-rec.gc.ca/REGDOCS/Item/LoadFeatured/4158245</td>\n",
       "    </tr>\n",
       "    <tr>\n",
       "      <th>5</th>\n",
       "      <td>Transcripts</td>\n",
       "      <td>https://apps.cer-rec.gc.ca/REGDOCS/Item/LoadResult/4236565</td>\n",
       "      <td>https://apps.cer-rec.gc.ca/REGDOCS/Item/LoadFeatured/4158245</td>\n",
       "    </tr>\n",
       "  </tbody>\n",
       "</table></div>"
      ],
      "text/plain": [
       "                                             f3_text  \\\n",
       "0                                          --Inbox--   \n",
       "1  2021-04-30 - Project Notification for the NEBC...   \n",
       "2                                      Hearing Order   \n",
       "3                                    List of Parties   \n",
       "4                        Registration to Participate   \n",
       "5                                        Transcripts   \n",
       "\n",
       "                                              f3_url  \\\n",
       "0  https://apps.cer-rec.gc.ca/REGDOCS/Item/LoadRe...   \n",
       "1  https://apps.cer-rec.gc.ca/REGDOCS/Item/LoadRe...   \n",
       "2  https://apps.cer-rec.gc.ca/REGDOCS/Item/LoadRe...   \n",
       "3  https://apps.cer-rec.gc.ca/REGDOCS/Item/LoadRe...   \n",
       "4  https://apps.cer-rec.gc.ca/REGDOCS/Item/LoadRe...   \n",
       "5  https://apps.cer-rec.gc.ca/REGDOCS/Item/LoadRe...   \n",
       "\n",
       "                                              f2_url  \n",
       "0  https://apps.cer-rec.gc.ca/REGDOCS/Item/LoadFe...  \n",
       "1  https://apps.cer-rec.gc.ca/REGDOCS/Item/LoadFe...  \n",
       "2  https://apps.cer-rec.gc.ca/REGDOCS/Item/LoadFe...  \n",
       "3  https://apps.cer-rec.gc.ca/REGDOCS/Item/LoadFe...  \n",
       "4  https://apps.cer-rec.gc.ca/REGDOCS/Item/LoadFe...  \n",
       "5  https://apps.cer-rec.gc.ca/REGDOCS/Item/LoadFe...  "
      ]
     },
     "execution_count": 179,
     "metadata": {},
     "output_type": "execute_result"
    }
   ],
   "source": [
    "NEBCConnector_facilities_url_f = 'https://apps.cer-rec.gc.ca/REGDOCS/Item/LoadFeatured/4158245'\n",
    "\n",
    "dfs_collector = []\n",
    "get_featured_information(source = [NEBCConnector_facilities_url_f])\n",
    "\n",
    "df_f3 = pd.concat(dfs_collector)\n",
    "df_f3.isnull().sum()\n",
    "df_f3.shape\n",
    "df_f3.head(7)\n",
    "df_f3.to_csv('NEBCConnector_facilities_df_f3.csv', index = False)"
   ]
  },
  {
   "cell_type": "markdown",
   "id": "92137fa6",
   "metadata": {},
   "source": [
    "### financial information level 4"
   ]
  },
  {
   "cell_type": "code",
   "execution_count": 180,
   "id": "0b432a8b",
   "metadata": {},
   "outputs": [
    {
     "data": {
      "text/plain": [
       "(37, 3)"
      ]
     },
     "execution_count": 180,
     "metadata": {},
     "output_type": "execute_result"
    },
    {
     "data": {
      "text/html": [
       "<div><div id=e2a31ac9-e2a6-4439-af22-d5098ef91013 style=\"display:none; background-color:#9D6CFF; color:white; width:200px; height:30px; padding-left:5px; border-radius:4px; flex-direction:row; justify-content:space-around; align-items:center;\" onmouseover=\"this.style.backgroundColor='#BA9BF8'\" onmouseout=\"this.style.backgroundColor='#9D6CFF'\" onclick=\"window.commands?.execute('create-mitosheet-from-dataframe-output');\">See Full Dataframe in Mito</div> <script> if (window.commands?.hasCommand('create-mitosheet-from-dataframe-output')) document.getElementById('e2a31ac9-e2a6-4439-af22-d5098ef91013').style.display = 'flex' </script> <table border=\"1\" class=\"dataframe\">\n",
       "  <thead>\n",
       "    <tr style=\"text-align: right;\">\n",
       "      <th></th>\n",
       "      <th>f4_text</th>\n",
       "      <th>f4_url</th>\n",
       "      <th>f3_url</th>\n",
       "    </tr>\n",
       "  </thead>\n",
       "  <tbody>\n",
       "    <tr>\n",
       "      <th>0</th>\n",
       "      <td>C21050 Commission | Commission - Letter and Hearing Order OH-001-2022 – NorthRiver Midstream NEBC Connector GP Inc. – NEBC Connector Project</td>\n",
       "      <td>https://apps.cer-rec.gc.ca/REGDOCS/Item/LoadResult/4268313</td>\n",
       "      <td>https://apps.cer-rec.gc.ca/REGDOCS/Item/LoadResult/4157921</td>\n",
       "    </tr>\n",
       "    <tr>\n",
       "      <th>0</th>\n",
       "      <td>C18996 Julius McCarthy  - Registration to Participate</td>\n",
       "      <td>https://apps.cer-rec.gc.ca/REGDOCS/Item/LoadResult/4246318</td>\n",
       "      <td>https://apps.cer-rec.gc.ca/REGDOCS/Item/LoadResult/4157919</td>\n",
       "    </tr>\n",
       "    <tr>\n",
       "      <th>1</th>\n",
       "      <td>C22859 McLeod Lake Indian Band - Registration to Participate</td>\n",
       "      <td>https://apps.cer-rec.gc.ca/REGDOCS/Item/LoadResult/4302437</td>\n",
       "      <td>https://apps.cer-rec.gc.ca/REGDOCS/Item/LoadResult/4157919</td>\n",
       "    </tr>\n",
       "  </tbody>\n",
       "</table></div>"
      ],
      "text/plain": [
       "                                             f4_text  \\\n",
       "0  C21050 Commission | Commission - Letter and He...   \n",
       "0  C18996 Julius McCarthy  - Registration to Part...   \n",
       "1  C22859 McLeod Lake Indian Band - Registration ...   \n",
       "\n",
       "                                              f4_url  \\\n",
       "0  https://apps.cer-rec.gc.ca/REGDOCS/Item/LoadRe...   \n",
       "0  https://apps.cer-rec.gc.ca/REGDOCS/Item/LoadRe...   \n",
       "1  https://apps.cer-rec.gc.ca/REGDOCS/Item/LoadRe...   \n",
       "\n",
       "                                              f3_url  \n",
       "0  https://apps.cer-rec.gc.ca/REGDOCS/Item/LoadRe...  \n",
       "0  https://apps.cer-rec.gc.ca/REGDOCS/Item/LoadRe...  \n",
       "1  https://apps.cer-rec.gc.ca/REGDOCS/Item/LoadRe...  "
      ]
     },
     "execution_count": 180,
     "metadata": {},
     "output_type": "execute_result"
    },
    {
     "data": {
      "text/plain": [
       "f4_text    0\n",
       "f4_url     0\n",
       "f3_url     0\n",
       "dtype: int64"
      ]
     },
     "execution_count": 180,
     "metadata": {},
     "output_type": "execute_result"
    }
   ],
   "source": [
    "dfs_collector = []\n",
    "get_documents(source = df_f3['f3_url'], string1 = 'f4_', string2 = 'f3_')\n",
    "\n",
    "df_f4 = pd.concat(dfs_collector)\n",
    "df_f4.shape\n",
    "df_f4.head(3)\n",
    "df_f4.isnull().sum() #no docs\n",
    "df_f4.to_csv('NEBCConnector_facilities_df_f4.csv', index = False)"
   ]
  },
  {
   "cell_type": "markdown",
   "id": "29f28c01",
   "metadata": {},
   "source": [
    "### financial information level 5"
   ]
  },
  {
   "cell_type": "code",
   "execution_count": 181,
   "id": "4e8005f1",
   "metadata": {
    "scrolled": false
   },
   "outputs": [
    {
     "data": {
      "text/plain": [
       "(109, 7)"
      ]
     },
     "execution_count": 181,
     "metadata": {},
     "output_type": "execute_result"
    },
    {
     "data": {
      "text/html": [
       "<div><div id=6ae265af-a658-4a99-8eec-afa652371373 style=\"display:none; background-color:#9D6CFF; color:white; width:200px; height:30px; padding-left:5px; border-radius:4px; flex-direction:row; justify-content:space-around; align-items:center;\" onmouseover=\"this.style.backgroundColor='#BA9BF8'\" onmouseout=\"this.style.backgroundColor='#9D6CFF'\" onclick=\"window.commands?.execute('create-mitosheet-from-dataframe-output');\">See Full Dataframe in Mito</div> <script> if (window.commands?.hasCommand('create-mitosheet-from-dataframe-output')) document.getElementById('6ae265af-a658-4a99-8eec-afa652371373').style.display = 'flex' </script> <table border=\"1\" class=\"dataframe\">\n",
       "  <thead>\n",
       "    <tr style=\"text-align: right;\">\n",
       "      <th></th>\n",
       "      <th>f5_text</th>\n",
       "      <th>f5_url</th>\n",
       "      <th>f4_url</th>\n",
       "      <th>document_name</th>\n",
       "      <th>document_download_link</th>\n",
       "      <th>document_date</th>\n",
       "      <th>doc_submitter</th>\n",
       "    </tr>\n",
       "  </thead>\n",
       "  <tbody>\n",
       "    <tr>\n",
       "      <th>0</th>\n",
       "      <td>NaN</td>\n",
       "      <td>NaN</td>\n",
       "      <td>https://apps.cer-rec.gc.ca/REGDOCS/Item/LoadResult/4251608</td>\n",
       "      <td>C19637-1 Vol.1-MonJun20,2022 - A8E6U6</td>\n",
       "      <td>/REGDOCS/File/Download/4251609</td>\n",
       "      <td>2022-06-20</td>\n",
       "      <td>International Reporting Inc.</td>\n",
       "    </tr>\n",
       "  </tbody>\n",
       "</table></div>"
      ],
      "text/plain": [
       "   f5_text  f5_url                                             f4_url  \\\n",
       "0      NaN     NaN  https://apps.cer-rec.gc.ca/REGDOCS/Item/LoadRe...   \n",
       "\n",
       "                           document_name          document_download_link  \\\n",
       "0  C19637-1 Vol.1-MonJun20,2022 - A8E6U6  /REGDOCS/File/Download/4251609   \n",
       "\n",
       "  document_date                 doc_submitter  \n",
       "0    2022-06-20  International Reporting Inc.  "
      ]
     },
     "execution_count": 181,
     "metadata": {},
     "output_type": "execute_result"
    },
    {
     "data": {
      "text/plain": [
       "f5_text                   109\n",
       "f5_url                    109\n",
       "f4_url                      0\n",
       "document_name               0\n",
       "document_download_link      0\n",
       "document_date               0\n",
       "doc_submitter               0\n",
       "dtype: int64"
      ]
     },
     "execution_count": 181,
     "metadata": {},
     "output_type": "execute_result"
    }
   ],
   "source": [
    "dfs_collector = []\n",
    "get_documents(source = df_f4['f4_url'], string1 = 'f5_', string2 = 'f4_')\n",
    "\n",
    "df_f5 = pd.concat(dfs_collector)\n",
    "df_f5.shape\n",
    "df_f5.head(1)\n",
    "df_f5.isnull().sum() #all documents\n",
    "df_f5.to_csv('NEBCConnector_facilities_df_f5.csv', index = False)"
   ]
  },
  {
   "cell_type": "markdown",
   "id": "1c31bef5",
   "metadata": {},
   "source": [
    "#### feature information level 5 documents"
   ]
  },
  {
   "cell_type": "code",
   "execution_count": 184,
   "id": "cfb8a115",
   "metadata": {},
   "outputs": [
    {
     "data": {
      "text/plain": [
       "(109, 9)"
      ]
     },
     "execution_count": 184,
     "metadata": {},
     "output_type": "execute_result"
    },
    {
     "data": {
      "text/plain": [
       "(109, 10)"
      ]
     },
     "execution_count": 184,
     "metadata": {},
     "output_type": "execute_result"
    },
    {
     "data": {
      "text/html": [
       "<div><div id=2b70b20b-b41c-4660-ad83-bf5e3801eeb3 style=\"display:none; background-color:#9D6CFF; color:white; width:200px; height:30px; padding-left:5px; border-radius:4px; flex-direction:row; justify-content:space-around; align-items:center;\" onmouseover=\"this.style.backgroundColor='#BA9BF8'\" onmouseout=\"this.style.backgroundColor='#9D6CFF'\" onclick=\"window.commands?.execute('create-mitosheet-from-dataframe-output');\">See Full Dataframe in Mito</div> <script> if (window.commands?.hasCommand('create-mitosheet-from-dataframe-output')) document.getElementById('2b70b20b-b41c-4660-ad83-bf5e3801eeb3').style.display = 'flex' </script> <table border=\"1\" class=\"dataframe\">\n",
       "  <thead>\n",
       "    <tr style=\"text-align: right;\">\n",
       "      <th></th>\n",
       "      <th>folder_name_url</th>\n",
       "      <th>document_name</th>\n",
       "      <th>document_download_link</th>\n",
       "      <th>document_date</th>\n",
       "      <th>doc_submitter</th>\n",
       "      <th>folder_name</th>\n",
       "      <th>featured_information_url</th>\n",
       "      <th>featured_information</th>\n",
       "      <th>f2_url</th>\n",
       "      <th>doc_type</th>\n",
       "    </tr>\n",
       "  </thead>\n",
       "  <tbody>\n",
       "    <tr>\n",
       "      <th>0</th>\n",
       "      <td>https://apps.cer-rec.gc.ca/REGDOCS/Item/LoadResult/4303525</td>\n",
       "      <td>C22845-1 2022-01-16 BRFN Offset Workshop Registration (02275022) - A8J7F1</td>\n",
       "      <td>/REGDOCS/File/Download/4302311</td>\n",
       "      <td>2023-01-17</td>\n",
       "      <td>Blueberry River First Nations</td>\n",
       "      <td>C22845 Blueberry River First Nations - Registration Form for Offset Workshop</td>\n",
       "      <td>https://apps.cer-rec.gc.ca/REGDOCS/Item/LoadResult/4157918</td>\n",
       "      <td>--Inbox--</td>\n",
       "      <td>https://apps.cer-rec.gc.ca/REGDOCS/Item/LoadFeatured/4158245</td>\n",
       "      <td>Featured Information</td>\n",
       "    </tr>\n",
       "  </tbody>\n",
       "</table></div>"
      ],
      "text/plain": [
       "                                     folder_name_url  \\\n",
       "0  https://apps.cer-rec.gc.ca/REGDOCS/Item/LoadRe...   \n",
       "\n",
       "                                       document_name  \\\n",
       "0  C22845-1 2022-01-16 BRFN Offset Workshop Regis...   \n",
       "\n",
       "           document_download_link document_date  \\\n",
       "0  /REGDOCS/File/Download/4302311    2023-01-17   \n",
       "\n",
       "                   doc_submitter  \\\n",
       "0  Blueberry River First Nations   \n",
       "\n",
       "                                         folder_name  \\\n",
       "0  C22845 Blueberry River First Nations - Registr...   \n",
       "\n",
       "                            featured_information_url featured_information  \\\n",
       "0  https://apps.cer-rec.gc.ca/REGDOCS/Item/LoadRe...            --Inbox--   \n",
       "\n",
       "                                              f2_url              doc_type  \n",
       "0  https://apps.cer-rec.gc.ca/REGDOCS/Item/LoadFe...  Featured Information  "
      ]
     },
     "execution_count": 184,
     "metadata": {},
     "output_type": "execute_result"
    }
   ],
   "source": [
    "df_f5_2 = df_f5\n",
    "df_f5_2 = df_f5_2.dropna(axis = 1, how = 'all')\n",
    "\n",
    "df_f5_2 = df_f5_2.merge(df_f4, how = 'right', on = 'f4_url')\n",
    "df_f5_2 = df_f5_2.merge(df_f3, how = 'right', on = 'f3_url')\n",
    "df_f5_2.shape \n",
    "\n",
    "df_f5_2 = df_f5_2.rename(columns={\"f4_text\": \"folder_name\", 'f4_url' : 'folder_name_url',\n",
    "                                  \"f3_text\" : \"featured_information\", \"f3_url\" : \"featured_information_url\"})\n",
    "\n",
    "df_f5_2['doc_type'] = 'Featured Information'\n",
    "\n",
    "df_f5_2.shape \n",
    "df_f5_2.head(1)"
   ]
  },
  {
   "cell_type": "markdown",
   "id": "72086fe5",
   "metadata": {},
   "source": [
    "## concat dataframes"
   ]
  },
  {
   "cell_type": "code",
   "execution_count": 186,
   "id": "1ee248ce",
   "metadata": {},
   "outputs": [
    {
     "data": {
      "text/plain": [
       "52"
      ]
     },
     "execution_count": 186,
     "metadata": {},
     "output_type": "execute_result"
    },
    {
     "data": {
      "text/plain": [
       "(509, 16)"
      ]
     },
     "execution_count": 186,
     "metadata": {},
     "output_type": "execute_result"
    },
    {
     "data": {
      "text/plain": [
       "Index(['folder_name_url', 'document_name', 'document_download_link',\n",
       "       'document_date', 'doc_submitter', 'folder_name',\n",
       "       'participant_category_url', 'participant_category', 'doc_type',\n",
       "       'participant_folder_url', 'participant_folder',\n",
       "       'featured_information_url', 'featured_information', 'f2_url',\n",
       "       'application_name', 'folder_name_url_view'],\n",
       "      dtype='object')"
      ]
     },
     "execution_count": 186,
     "metadata": {},
     "output_type": "execute_result"
    },
    {
     "data": {
      "text/html": [
       "<div><div id=2600578f-b249-48bb-b06c-11095bb2f741 style=\"display:none; background-color:#9D6CFF; color:white; width:200px; height:30px; padding-left:5px; border-radius:4px; flex-direction:row; justify-content:space-around; align-items:center;\" onmouseover=\"this.style.backgroundColor='#BA9BF8'\" onmouseout=\"this.style.backgroundColor='#9D6CFF'\" onclick=\"window.commands?.execute('create-mitosheet-from-dataframe-output');\">See Full Dataframe in Mito</div> <script> if (window.commands?.hasCommand('create-mitosheet-from-dataframe-output')) document.getElementById('2600578f-b249-48bb-b06c-11095bb2f741').style.display = 'flex' </script> <table border=\"1\" class=\"dataframe\">\n",
       "  <thead>\n",
       "    <tr style=\"text-align: right;\">\n",
       "      <th></th>\n",
       "      <th>folder_name_url</th>\n",
       "      <th>document_name</th>\n",
       "      <th>document_download_link</th>\n",
       "      <th>document_date</th>\n",
       "      <th>doc_submitter</th>\n",
       "      <th>folder_name</th>\n",
       "      <th>participant_category_url</th>\n",
       "      <th>participant_category</th>\n",
       "      <th>doc_type</th>\n",
       "      <th>participant_folder_url</th>\n",
       "      <th>participant_folder</th>\n",
       "      <th>featured_information_url</th>\n",
       "      <th>featured_information</th>\n",
       "      <th>f2_url</th>\n",
       "      <th>application_name</th>\n",
       "      <th>folder_name_url_view</th>\n",
       "    </tr>\n",
       "  </thead>\n",
       "  <tbody>\n",
       "    <tr>\n",
       "      <th>0</th>\n",
       "      <td>https://apps.cer-rec.gc.ca/REGDOCS/Item/LoadResult/4246271</td>\n",
       "      <td>C19098-1 NEBC_Connector_Project_-_CCC_Registration_-_Cumulative_Effects_Workshop_June_2022 - A8D8W1</td>\n",
       "      <td>/REGDOCS/File/Download/4246822</td>\n",
       "      <td>2022-05-12</td>\n",
       "      <td>Crown Consultation Coordinator</td>\n",
       "      <td>C19098 Crown Consultation Coordinator - NEBC Connector Project - CCC Registration - June 2022 Cumulative Effects Workshop</td>\n",
       "      <td>https://apps.cer-rec.gc.ca/REGDOCS/Item/LoadResult/4157925</td>\n",
       "      <td>B - Canada Energy Regulator</td>\n",
       "      <td>documents</td>\n",
       "      <td>NaN</td>\n",
       "      <td>NaN</td>\n",
       "      <td>NaN</td>\n",
       "      <td>NaN</td>\n",
       "      <td>NaN</td>\n",
       "      <td>NorthRiver Midstream NEBC Connector GP Inc.</td>\n",
       "      <td>https://apps.cer-rec.gc.ca/REGDOCS/Item/View/4246271</td>\n",
       "    </tr>\n",
       "  </tbody>\n",
       "</table></div>"
      ],
      "text/plain": [
       "                                     folder_name_url  \\\n",
       "0  https://apps.cer-rec.gc.ca/REGDOCS/Item/LoadRe...   \n",
       "\n",
       "                                       document_name  \\\n",
       "0  C19098-1 NEBC_Connector_Project_-_CCC_Registra...   \n",
       "\n",
       "           document_download_link document_date  \\\n",
       "0  /REGDOCS/File/Download/4246822    2022-05-12   \n",
       "\n",
       "                    doc_submitter  \\\n",
       "0  Crown Consultation Coordinator   \n",
       "\n",
       "                                         folder_name  \\\n",
       "0  C19098 Crown Consultation Coordinator - NEBC C...   \n",
       "\n",
       "                            participant_category_url  \\\n",
       "0  https://apps.cer-rec.gc.ca/REGDOCS/Item/LoadRe...   \n",
       "\n",
       "          participant_category   doc_type participant_folder_url  \\\n",
       "0  B - Canada Energy Regulator  documents                    NaN   \n",
       "\n",
       "  participant_folder featured_information_url featured_information f2_url  \\\n",
       "0                NaN                      NaN                  NaN    NaN   \n",
       "\n",
       "                              application_name  \\\n",
       "0  NorthRiver Midstream NEBC Connector GP Inc.   \n",
       "\n",
       "                                folder_name_url_view  \n",
       "0  https://apps.cer-rec.gc.ca/REGDOCS/Item/View/4...  "
      ]
     },
     "execution_count": 186,
     "metadata": {},
     "output_type": "execute_result"
    }
   ],
   "source": [
    "df = pd.concat([df_l3_2, df_l4_2, df_f5_2])\n",
    "df = df[df['document_name'].str.contains('Receipt') == False]\n",
    "df['doc_submitter'].nunique()\n",
    "\n",
    "\n",
    "df['application_name'] = 'NorthRiver Midstream NEBC Connector GP Inc.'\n",
    "df['folder_name_url_view'] = df['folder_name_url'].str.replace('LoadResult', 'View')\n",
    "df.shape\n",
    "df.columns\n",
    "df.head(1)\n",
    "df.to_csv('NEBCConnector_Facilities_Jan2023.csv', index = False)"
   ]
  },
  {
   "cell_type": "code",
   "execution_count": null,
   "id": "ba4a7170",
   "metadata": {},
   "outputs": [],
   "source": []
  }
 ],
 "metadata": {
  "kernelspec": {
   "display_name": "Python 3",
   "language": "python",
   "name": "python3"
  },
  "language_info": {
   "codemirror_mode": {
    "name": "ipython",
    "version": 3
   },
   "file_extension": ".py",
   "mimetype": "text/x-python",
   "name": "python",
   "nbconvert_exporter": "python",
   "pygments_lexer": "ipython3",
   "version": "3.8.5"
  },
  "toc": {
   "base_numbering": 1,
   "nav_menu": {},
   "number_sections": true,
   "sideBar": true,
   "skip_h1_title": false,
   "title_cell": "Table of Contents",
   "title_sidebar": "Contents",
   "toc_cell": true,
   "toc_position": {
    "height": "calc(100% - 180px)",
    "left": "10px",
    "top": "150px",
    "width": "360px"
   },
   "toc_section_display": true,
   "toc_window_display": true
  }
 },
 "nbformat": 4,
 "nbformat_minor": 5
}
